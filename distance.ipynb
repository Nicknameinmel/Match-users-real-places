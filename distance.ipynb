{
 "cells": [
  {
   "cell_type": "code",
   "execution_count": 22,
   "id": "972c7448",
   "metadata": {},
   "outputs": [
    {
     "name": "stdout",
     "output_type": "stream",
     "text": [
      "                         user_id(md5)  是否授信成功,1:是；0:否_x  \\\n",
      "0    a77b3cc1d5428f92c52b648f903258de                 1   \n",
      "1    4d23373b6caaf9db8c56a908ef091bda                 0   \n",
      "2    3f59acac815e0ae7a9fcc30bd09111cb                 0   \n",
      "3    bc5d95ab44cc2e24c1542ca6a0b99e8d                 1   \n",
      "4    fe64dbb19f9cd1b5aebaf5d8acc47abc                 1   \n",
      "..                                ...               ...   \n",
      "339  0f7cc251a27011fc6ac02514b6f9cf43                 1   \n",
      "340  6b887f83cfbfcd9ed480f4ee44ff45b0                 0   \n",
      "341  3ccf954e29df41af27c1776e9cb4e745                 1   \n",
      "342  22522b6393fb726713040810e5d30708                 1   \n",
      "343  0839ba379fc70ffccd3b513ec8afd448                 1   \n",
      "\n",
      "                              居住地址.1  b.location_lat  b.location_lng  \\\n",
      "0                       江西省吉安市吉州区北门街       27.127084      115.001554   \n",
      "1                    甘肃省白银市白银区胜利路52号       36.542636      104.167292   \n",
      "2                  重庆市重庆市辖区沙坪坝区派出所宿舍       29.707233      106.379389   \n",
      "3    河北省保定市莲池区河北省保定市北市区学府胡同9栋3单元602号       38.865990      115.473672   \n",
      "4                 云南省文山壮族苗族自治州广南县黑支果       23.631922      105.181690   \n",
      "..                               ...             ...             ...   \n",
      "339                    湖南省岳阳市君山区学校宿舍       29.457665      113.007667   \n",
      "340               贵州省贵阳市花溪区清溪路88好31栋       26.417761      106.674010   \n",
      "341                    江西省上饶市信州区恒大珺庭       28.463337      117.951750   \n",
      "342                    河南省郑州市荥阳市龙湖小区       34.788562      113.370235   \n",
      "343                     甘肃省兰州市城关区家属院       36.048532      103.865705   \n",
      "\n",
      "          t_lng      t_lat   distance  \n",
      "0    114.995676  27.121894   0.818734  \n",
      "1    104.178799  36.541386   1.039656  \n",
      "2    106.583251  29.538254  27.215044  \n",
      "3    115.483539  38.859655   1.108145  \n",
      "4    105.178133  23.630897   0.380288  \n",
      "..          ...        ...        ...  \n",
      "339  113.006435  29.461106   0.399751  \n",
      "340  106.680000  26.420000   0.646990  \n",
      "341  117.966460  28.431002   3.862460  \n",
      "342  113.384057  34.779439   1.620101  \n",
      "343  103.850130  36.046300   1.425136  \n",
      "\n",
      "[344 rows x 8 columns]\n"
     ]
    }
   ],
   "source": [
    "from geopy import distance\n",
    "import pandas as pd\n",
    "\n",
    "def cal_distance(data):\n",
    "    lon1 = data['b.location_lng']\n",
    "    lat1 = data['b.location_lat']\n",
    "    lon2 = data['t_lng']\n",
    "    lat2 = data['t_lat']\n",
    "    lonlat1 = (lat1,lon1)\n",
    "    lonlat2 = (lat2,lon2)\n",
    "    dist = distance.distance(lonlat1,lonlat2).km\n",
    "    return dist\n",
    "\n",
    "\n",
    "data = pd.read_csv(r'C:\\Users\\cc\\Documents\\经纬度地址匹配\\transfer_data.csv')\n",
    "data = data[['user_id(md5)','是否授信成功,1:是；0:否_x','居住地址.1','b.location_lat','b.location_lng','t_lng','t_lat']]\n",
    "data['distance'] = data.apply(lambda data: cal_distance(data), axis=1)\n",
    "print(data)"
   ]
  },
  {
   "cell_type": "code",
   "execution_count": 23,
   "id": "06089c0c",
   "metadata": {},
   "outputs": [],
   "source": [
    "data.to_csv(r'C:\\Users\\cc\\Documents\\经纬度地址匹配\\distance.csv',encoding='utf-8-sig')"
   ]
  },
  {
   "cell_type": "code",
   "execution_count": 24,
   "id": "a825be18",
   "metadata": {},
   "outputs": [
    {
     "name": "stdout",
     "output_type": "stream",
     "text": [
      "<class 'pandas.core.frame.DataFrame'>\n",
      "RangeIndex: 344 entries, 0 to 343\n",
      "Data columns (total 8 columns):\n",
      " #   Column            Non-Null Count  Dtype  \n",
      "---  ------            --------------  -----  \n",
      " 0   user_id(md5)      344 non-null    object \n",
      " 1   是否授信成功,1:是；0:否_x  344 non-null    int64  \n",
      " 2   居住地址.1            344 non-null    object \n",
      " 3   b.location_lat    344 non-null    float64\n",
      " 4   b.location_lng    344 non-null    float64\n",
      " 5   t_lng             344 non-null    float64\n",
      " 6   t_lat             344 non-null    float64\n",
      " 7   distance          344 non-null    float64\n",
      "dtypes: float64(5), int64(1), object(2)\n",
      "memory usage: 21.6+ KB\n"
     ]
    }
   ],
   "source": [
    "data.info()"
   ]
  },
  {
   "cell_type": "code",
   "execution_count": 28,
   "id": "68867bf4",
   "metadata": {},
   "outputs": [
    {
     "data": {
      "text/html": [
       "<div>\n",
       "<style scoped>\n",
       "    .dataframe tbody tr th:only-of-type {\n",
       "        vertical-align: middle;\n",
       "    }\n",
       "\n",
       "    .dataframe tbody tr th {\n",
       "        vertical-align: top;\n",
       "    }\n",
       "\n",
       "    .dataframe thead th {\n",
       "        text-align: right;\n",
       "    }\n",
       "</style>\n",
       "<table border=\"1\" class=\"dataframe\">\n",
       "  <thead>\n",
       "    <tr style=\"text-align: right;\">\n",
       "      <th></th>\n",
       "      <th>是否授信成功,1:是；0:否_x</th>\n",
       "      <th>b.location_lat</th>\n",
       "      <th>b.location_lng</th>\n",
       "      <th>t_lng</th>\n",
       "      <th>t_lat</th>\n",
       "      <th>distance</th>\n",
       "    </tr>\n",
       "  </thead>\n",
       "  <tbody>\n",
       "    <tr>\n",
       "      <th>count</th>\n",
       "      <td>344.000000</td>\n",
       "      <td>344.000000</td>\n",
       "      <td>344.000000</td>\n",
       "      <td>344.000000</td>\n",
       "      <td>344.000000</td>\n",
       "      <td>344.000000</td>\n",
       "    </tr>\n",
       "    <tr>\n",
       "      <th>mean</th>\n",
       "      <td>0.523256</td>\n",
       "      <td>31.006349</td>\n",
       "      <td>112.446416</td>\n",
       "      <td>112.413573</td>\n",
       "      <td>31.026192</td>\n",
       "      <td>17.118654</td>\n",
       "    </tr>\n",
       "    <tr>\n",
       "      <th>std</th>\n",
       "      <td>0.500186</td>\n",
       "      <td>5.638131</td>\n",
       "      <td>5.275628</td>\n",
       "      <td>5.335617</td>\n",
       "      <td>5.605670</td>\n",
       "      <td>64.002884</td>\n",
       "    </tr>\n",
       "    <tr>\n",
       "      <th>min</th>\n",
       "      <td>0.000000</td>\n",
       "      <td>18.901654</td>\n",
       "      <td>101.948013</td>\n",
       "      <td>99.541236</td>\n",
       "      <td>18.750260</td>\n",
       "      <td>0.010122</td>\n",
       "    </tr>\n",
       "    <tr>\n",
       "      <th>25%</th>\n",
       "      <td>0.000000</td>\n",
       "      <td>26.646239</td>\n",
       "      <td>108.524422</td>\n",
       "      <td>108.533966</td>\n",
       "      <td>26.645851</td>\n",
       "      <td>0.866887</td>\n",
       "    </tr>\n",
       "    <tr>\n",
       "      <th>50%</th>\n",
       "      <td>1.000000</td>\n",
       "      <td>30.334346</td>\n",
       "      <td>113.484922</td>\n",
       "      <td>113.659734</td>\n",
       "      <td>30.332720</td>\n",
       "      <td>2.479602</td>\n",
       "    </tr>\n",
       "    <tr>\n",
       "      <th>75%</th>\n",
       "      <td>1.000000</td>\n",
       "      <td>34.787247</td>\n",
       "      <td>115.518669</td>\n",
       "      <td>115.519248</td>\n",
       "      <td>34.784290</td>\n",
       "      <td>7.626252</td>\n",
       "    </tr>\n",
       "    <tr>\n",
       "      <th>max</th>\n",
       "      <td>1.000000</td>\n",
       "      <td>46.083753</td>\n",
       "      <td>127.405292</td>\n",
       "      <td>127.406175</td>\n",
       "      <td>46.084520</td>\n",
       "      <td>605.510293</td>\n",
       "    </tr>\n",
       "  </tbody>\n",
       "</table>\n",
       "</div>"
      ],
      "text/plain": [
       "       是否授信成功,1:是；0:否_x  b.location_lat  b.location_lng       t_lng  \\\n",
       "count        344.000000      344.000000      344.000000  344.000000   \n",
       "mean           0.523256       31.006349      112.446416  112.413573   \n",
       "std            0.500186        5.638131        5.275628    5.335617   \n",
       "min            0.000000       18.901654      101.948013   99.541236   \n",
       "25%            0.000000       26.646239      108.524422  108.533966   \n",
       "50%            1.000000       30.334346      113.484922  113.659734   \n",
       "75%            1.000000       34.787247      115.518669  115.519248   \n",
       "max            1.000000       46.083753      127.405292  127.406175   \n",
       "\n",
       "            t_lat    distance  \n",
       "count  344.000000  344.000000  \n",
       "mean    31.026192   17.118654  \n",
       "std      5.605670   64.002884  \n",
       "min     18.750260    0.010122  \n",
       "25%     26.645851    0.866887  \n",
       "50%     30.332720    2.479602  \n",
       "75%     34.784290    7.626252  \n",
       "max     46.084520  605.510293  "
      ]
     },
     "execution_count": 28,
     "metadata": {},
     "output_type": "execute_result"
    }
   ],
   "source": [
    "data.describe()"
   ]
  },
  {
   "cell_type": "code",
   "execution_count": 26,
   "id": "697c3efb",
   "metadata": {},
   "outputs": [
    {
     "data": {
      "text/plain": [
       "<matplotlib.collections.PathCollection at 0x233db21efa0>"
      ]
     },
     "execution_count": 26,
     "metadata": {},
     "output_type": "execute_result"
    },
    {
     "data": {
      "image/png": "[encoded data removed]",
      "text/plain": [
       "<Figure size 432x288 with 1 Axes>"
      ]
     },
     "metadata": {
      "needs_background": "light"
     },
     "output_type": "display_data"
    }
   ],
   "source": [
    "import matplotlib.pyplot as plt\n",
    "\n",
    "dist = data['distance']\n",
    "id = data['user_id(md5)']\n",
    "plt.scatter(id,dist, color='r', marker='+')"
   ]
  },
  {
   "cell_type": "code",
   "execution_count": 32,
   "id": "68f528dd",
   "metadata": {},
   "outputs": [
    {
     "data": {
      "text/plain": [
       "(array([89., 92., 60., 31., 21., 28., 10.,  8.,  1.,  4.]),\n",
       " array([0.0100709 , 0.64983598, 1.28960106, 1.92936614, 2.56913122,\n",
       "        3.2088963 , 3.84866138, 4.48842646, 5.12819154, 5.76795662,\n",
       "        6.4077217 ]),\n",
       " <BarContainer object of 10 artists>)"
      ]
     },
     "execution_count": 32,
     "metadata": {},
     "output_type": "execute_result"
    },
    {
     "data": {
      "image/png": "[encoded data removed]",
      "text/plain": [
       "<Figure size 432x288 with 1 Axes>"
      ]
     },
     "metadata": {
      "needs_background": "light"
     },
     "output_type": "display_data"
    }
   ],
   "source": [
    "import numpy as np\n",
    "plt.hist(dist.apply(np.log1p))"
   ]
  },
  {
   "cell_type": "code",
   "execution_count": 29,
   "id": "3d1a93d8",
   "metadata": {},
   "outputs": [
    {
     "data": {
      "text/plain": [
       "(array([164.,   0.,   0.,   0.,   0.,   0.,   0.,   0.,   0., 180.]),\n",
       " array([0. , 0.1, 0.2, 0.3, 0.4, 0.5, 0.6, 0.7, 0.8, 0.9, 1. ]),\n",
       " <BarContainer object of 10 artists>)"
      ]
     },
     "execution_count": 29,
     "metadata": {},
     "output_type": "execute_result"
    },
    {
     "data": {
      "image/png": "[encoded data removed]",
      "text/plain": [
       "<Figure size 432x288 with 1 Axes>"
      ]
     },
     "metadata": {
      "needs_background": "light"
     },
     "output_type": "display_data"
    }
   ],
   "source": [
    "judge = data['是否授信成功,1:是；0:否_x']\n",
    "plt.hist(judge)"
   ]
  },
  {
   "cell_type": "code",
   "execution_count": 43,
   "id": "147ed076",
   "metadata": {},
   "outputs": [
    {
     "data": {
      "text/plain": [
       "{'whiskers': [<matplotlib.lines.Line2D at 0x233dc673a30>,\n",
       "  <matplotlib.lines.Line2D at 0x233dc673e20>],\n",
       " 'caps': [<matplotlib.lines.Line2D at 0x233dc61ae80>,\n",
       "  <matplotlib.lines.Line2D at 0x233dc6a3be0>],\n",
       " 'boxes': [<matplotlib.lines.Line2D at 0x233dc6b2e20>],\n",
       " 'medians': [<matplotlib.lines.Line2D at 0x233dc6a3280>],\n",
       " 'fliers': [<matplotlib.lines.Line2D at 0x233dc6a34c0>],\n",
       " 'means': []}"
      ]
     },
     "execution_count": 43,
     "metadata": {},
     "output_type": "execute_result"
    },
    {
     "data": {
      "image/png": "[encoded data removed]",
      "text/plain": [
       "<Figure size 432x288 with 1 Axes>"
      ]
     },
     "metadata": {
      "needs_background": "light"
     },
     "output_type": "display_data"
    }
   ],
   "source": [
    "plt.boxplot(dist.apply(np.log1p))"
   ]
  },
  {
   "cell_type": "code",
   "execution_count": 54,
   "id": "77dd549f",
   "metadata": {},
   "outputs": [
    {
     "name": "stderr",
     "output_type": "stream",
     "text": [
      "C:\\Users\\cc\\Anaconda3\\lib\\site-packages\\seaborn\\_decorators.py:36: FutureWarning: Pass the following variables as keyword args: x, y. From version 0.12, the only valid positional argument will be `data`, and passing other arguments without an explicit keyword will result in an error or misinterpretation.\n",
      "  warnings.warn(\n"
     ]
    },
    {
     "data": {
      "text/plain": [
       "<AxesSubplot:xlabel='是否授信成功,1:是；0:否_x', ylabel='distance'>"
      ]
     },
     "execution_count": 54,
     "metadata": {},
     "output_type": "execute_result"
    },
    {
     "data": {
      "image/png": "[encoded data removed]",
      "text/plain": [
       "<Figure size 432x288 with 1 Axes>"
      ]
     },
     "metadata": {
      "needs_background": "light"
     },
     "output_type": "display_data"
    }
   ],
   "source": [
    "import seaborn as sns\n",
    "plt.rcParams['font.sans-serif']=['SimHei']  # 用于显示中文\n",
    "plt.rcParams['axes.unicode_minus'] = False  # 用于显示中文\n",
    "\n",
    "sns.boxplot(judge,dist.apply(np.log1p))\n"
   ]
  },
  {
   "cell_type": "code",
   "execution_count": 37,
   "id": "0295df25",
   "metadata": {},
   "outputs": [
    {
     "data": {
      "image/png": "[encoded data removed]",
      "text/plain": [
       "<Figure size 720x432 with 3 Axes>"
      ]
     },
     "metadata": {
      "needs_background": "light"
     },
     "output_type": "display_data"
    }
   ],
   "source": [
    "#画散点图和直方图\n",
    "fig = plt.figure(figsize = (10,6))\n",
    "ax1 = fig.add_subplot(2,1,1)  # 创建子图1\n",
    "ax1.scatter(dist.index, dist.values)\n",
    "plt.grid()\n",
    "\n",
    "ax2 = fig.add_subplot(2,1,2)  # 创建子图2\n",
    "dist.hist(bins=30,alpha = 0.5,ax = ax2)\n",
    "dist.plot(kind = 'kde', secondary_y=True,ax = ax2)\n",
    "plt.grid()"
   ]
  },
  {
   "cell_type": "code",
   "execution_count": 40,
   "id": "24a2c2f6",
   "metadata": {},
   "outputs": [
    {
     "data": {
      "text/plain": [
       "KstestResult(statistic=0.12333554049104267, pvalue=5.098842245156485e-05)"
      ]
     },
     "execution_count": 40,
     "metadata": {},
     "output_type": "execute_result"
    }
   ],
   "source": [
    "#导入scipy模块\n",
    "from scipy import stats\n",
    "dist1=dist.apply(np.log1p)\n",
    "\n",
    "\"\"\"\n",
    "kstest方法：KS检验，参数分别是：待检验的数据，检验方法（这里设置成norm正态分布），均值与标准差\n",
    "结果返回两个值：statistic → D值，pvalue → P值\n",
    "p值大于0.05，为正态分布\n",
    "H0:样本符合  \n",
    "H1:样本不符合 \n",
    "如何p>0.05接受H0 ,反之 \n",
    "\"\"\"\n",
    "u = dist1.mean()  # 计算均值\n",
    "std = dist1.std()  # 计算标准差\n",
    "stats.kstest(dist1, 'norm', (u, std))"
   ]
  },
  {
   "cell_type": "code",
   "execution_count": null,
   "id": "bfe202fd",
   "metadata": {},
   "outputs": [],
   "source": []
  }
 ],
 "metadata": {
  "kernelspec": {
   "display_name": "Python 3",
   "language": "python",
   "name": "python3"
  },
  "language_info": {
   "codemirror_mode": {
    "name": "ipython",
    "version": 3
   },
   "file_extension": ".py",
   "mimetype": "text/x-python",
   "name": "python",
   "nbconvert_exporter": "python",
   "pygments_lexer": "ipython3",
   "version": "3.8.8"
  }
 },
 "nbformat": 4,
 "nbformat_minor": 5
}
